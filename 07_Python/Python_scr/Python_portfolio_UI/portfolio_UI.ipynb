{
 "cells": [
  {
   "cell_type": "markdown",
   "id": "12452276",
   "metadata": {},
   "source": [
    "# 문제\n",
    "## 2. 영어번역자동화프로그램을구현하시오.네이버맞춤법검사를 마친텍스트를 https://translate.kakao.com/ 를 통해 영어로 번역된 텍스트를 파일로 출력하는 동적 웹크롤링 프로그램을 구현하시오."
   ]
  },
  {
   "cell_type": "code",
   "execution_count": 18,
   "id": "4ba08fc8",
   "metadata": {},
   "outputs": [
    {
     "name": "stdout",
     "output_type": "stream",
     "text": [
      "Hello, nice to meet you\n"
     ]
    }
   ],
   "source": [
    "from selenium import webdriver\n",
    "from selenium.webdriver.common.keys import Keys\n",
    "from bs4 import BeautifulSoup\n",
    "import time\n",
    "driver = webdriver.Chrome('/Users/yeonju1/Documents/bigData/src/07_Python/chromedriver')\n",
    "driver.get('https://translate.kakao.com/ ')\n",
    "close_btn = driver.find_element_by_css_selector('a.btn_close')\n",
    "close_btn.click()\n",
    "textarea = driver.find_element_by_class_name('tf_translation')\n",
    "textarea.send_keys('안녕하세요. 반갑습니다')\n",
    "button = driver.find_element_by_class_name('btn_translation.on')\n",
    "button.click()\n",
    "time.sleep(1)\n",
    "soup = BeautifulSoup(driver.page_source, 'html.parser')\n",
    "result = soup.select_one('p.desc_translation').text\n",
    "print(result)\n",
    "driver.close()"
   ]
  },
  {
   "cell_type": "code",
   "execution_count": 46,
   "id": "a4734ea7",
   "metadata": {},
   "outputs": [
    {
     "data": {
      "text/plain": [
       "[4999, 509]"
      ]
     },
     "execution_count": 46,
     "metadata": {},
     "output_type": "execute_result"
    }
   ],
   "source": [
    "with open('data/2_한글원본.txt', 'r', encoding='utf-8') as f:\n",
    "    text = f.read()\n",
    "ready_list = [] # 텍스트 500자씩\n",
    "while len(text) > 5000:\n",
    "    temp_str = text[:5000]\n",
    "    last_space_idx = temp_str.rfind(' ')\n",
    "    ready_list.append(text[:last_space_idx])\n",
    "    text = text[last_space_idx:] # ready_list에 append된 앞부분을 날림\n",
    "ready_list.append(text)\n",
    "[len(ready) for ready in ready_list]"
   ]
  },
  {
   "cell_type": "code",
   "execution_count": 47,
   "id": "cf693958",
   "metadata": {},
   "outputs": [],
   "source": [
    "from selenium import webdriver\n",
    "from selenium.webdriver.common.keys import Keys\n",
    "from bs4 import BeautifulSoup\n",
    "import time\n",
    "driver = webdriver.Chrome('/Users/yeonju1/Documents/bigData/src/07_Python/chromedriver')\n",
    "driver.get('https://translate.kakao.com/ ')\n",
    "close_btn = driver.find_element_by_css_selector('a.btn_close')\n",
    "close_btn.click()\n",
    "textarea = driver.find_element_by_class_name('tf_translation')\n",
    "results = \"\"\n",
    "for ready in ready_list:\n",
    "    textarea.send_keys(Keys.COMMAND,'a')\n",
    "    textarea.send_keys(ready)\n",
    "    button = driver.find_element_by_class_name('btn_translation.on')\n",
    "    button.click()\n",
    "    time.sleep(2)\n",
    "    soup = BeautifulSoup(driver.page_source, 'html.parser')\n",
    "    result = soup.select_one('p.desc_translation').text\n",
    "    results += result\n",
    "#print(results)\n",
    "with open('data/2_자동화영어번역본.txt','w', encoding='utf-8') as f:\n",
    "    f.write(results)\n",
    "driver.close()"
   ]
  },
  {
   "cell_type": "code",
   "execution_count": 30,
   "id": "6d334cd5",
   "metadata": {},
   "outputs": [],
   "source": [
    "# 텍스트 파일을 번역하기 전 맞춤법검사"
   ]
  },
  {
   "cell_type": "code",
   "execution_count": 27,
   "id": "d17b3a04",
   "metadata": {},
   "outputs": [
    {
     "data": {
      "text/plain": [
       "[499, 499, 497, 497, 499, 498, 496, 494, 497, 498, 498, 51]"
      ]
     },
     "execution_count": 27,
     "metadata": {},
     "output_type": "execute_result"
    }
   ],
   "source": [
    "with open('data/2_맞춤법검사전.txt', 'r', encoding='utf-8') as f:\n",
    "    text = f.read()\n",
    "ready_list = [] # 텍스트 500자씩\n",
    "while len(text) > 500:\n",
    "    temp_str = text[:500]\n",
    "    last_space_idx = temp_str.rfind(' ')\n",
    "    ready_list.append(text[:last_space_idx])\n",
    "    text = text[last_space_idx:] # ready_list에 append된 앞부분을 날림\n",
    "ready_list.append(text)\n",
    "[len(ready) for ready in ready_list]"
   ]
  },
  {
   "cell_type": "code",
   "execution_count": 29,
   "id": "505e2ac5",
   "metadata": {},
   "outputs": [],
   "source": [
    "driver = webdriver.Chrome('/Users/yeonju1/Documents/bigData/src/07_Python/chromedriver')\n",
    "driver.get('https://www.naver.com/')\n",
    "elem = driver.find_element_by_name('query')\n",
    "elem.send_keys('맞춤법 검사기')\n",
    "elem.send_keys(Keys.RETURN)\n",
    "time.sleep(2)\n",
    "textarea = driver.find_element_by_class_name('txt_gray')\n",
    "results = \"\"\n",
    "for ready in ready_list:\n",
    "    textarea.send_keys(Keys.COMMAND,'a')\n",
    "    textarea.send_keys(ready)\n",
    "    button = driver.find_element_by_class_name('btn_check')\n",
    "    button.click()\n",
    "    time.sleep(1)\n",
    "    soup = BeautifulSoup(driver.page_source, 'html.parser')\n",
    "    result = soup.select_one('p._result_text.stand_txt').text\n",
    "    #results += result.replace('.','.\\n')\n",
    "    results += result\n",
    "#print(results)\n",
    "with open('data/2_한글원본.txt','w', encoding='utf-8') as f:\n",
    "    f.write(results)\n",
    "driver.close()"
   ]
  }
 ],
 "metadata": {
  "kernelspec": {
   "display_name": "Python 3",
   "language": "python",
   "name": "python3"
  },
  "language_info": {
   "codemirror_mode": {
    "name": "ipython",
    "version": 3
   },
   "file_extension": ".py",
   "mimetype": "text/x-python",
   "name": "python",
   "nbconvert_exporter": "python",
   "pygments_lexer": "ipython3",
   "version": "3.8.8"
  },
  "toc": {
   "base_numbering": 1,
   "nav_menu": {},
   "number_sections": false,
   "sideBar": true,
   "skip_h1_title": false,
   "title_cell": "Table of Contents",
   "title_sidebar": "Contents",
   "toc_cell": false,
   "toc_position": {},
   "toc_section_display": true,
   "toc_window_display": false
  },
  "varInspector": {
   "cols": {
    "lenName": 16,
    "lenType": 16,
    "lenVar": 40
   },
   "kernels_config": {
    "python": {
     "delete_cmd_postfix": "",
     "delete_cmd_prefix": "del ",
     "library": "var_list.py",
     "varRefreshCmd": "print(var_dic_list())"
    },
    "r": {
     "delete_cmd_postfix": ") ",
     "delete_cmd_prefix": "rm(",
     "library": "var_list.r",
     "varRefreshCmd": "cat(var_dic_list()) "
    }
   },
   "types_to_exclude": [
    "module",
    "function",
    "builtin_function_or_method",
    "instance",
    "_Feature"
   ],
   "window_display": false
  }
 },
 "nbformat": 4,
 "nbformat_minor": 5
}
