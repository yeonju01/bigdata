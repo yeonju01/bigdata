{
 "cells": [
  {
   "cell_type": "markdown",
   "id": "85ab0eaa",
   "metadata": {},
   "source": [
    "# 실습형 문제"
   ]
  },
  {
   "cell_type": "code",
   "execution_count": 1,
   "id": "ff148936",
   "metadata": {},
   "outputs": [
    {
     "data": {
      "text/plain": [
       "<sqlite3.Connection at 0x7fbf384123f0>"
      ]
     },
     "execution_count": 1,
     "metadata": {},
     "output_type": "execute_result"
    }
   ],
   "source": [
    "import sqlite3\n",
    "conn = sqlite3.connect('data.db')\n",
    "conn"
   ]
  },
  {
   "cell_type": "code",
   "execution_count": 2,
   "id": "54d0eafb",
   "metadata": {},
   "outputs": [
    {
     "data": {
      "text/plain": [
       "<sqlite3.Cursor at 0x7fbf380916c0>"
      ]
     },
     "execution_count": 2,
     "metadata": {},
     "output_type": "execute_result"
    }
   ],
   "source": [
    "# 커서 객체 반환. 커서는 SQL문 실행시키고 결과데이터(SELECT)를 조회하는데 사용객체\n",
    "cursor = conn.cursor()\n",
    "cursor"
   ]
  },
  {
   "cell_type": "code",
   "execution_count": 3,
   "id": "bf89b55b",
   "metadata": {},
   "outputs": [],
   "source": [
    "# 클래스 생성은 선택사항\n",
    "class Member:\n",
    "    '멤버 데이터 저장'\n",
    "    def __init__(self, name, phone, email, age, grade, etc):\n",
    "        self.name = name\n",
    "        self.phone = phone\n",
    "        self.email = email\n",
    "        self.age = age\n",
    "        self.grade = grade\n",
    "        self.etc = etc\n",
    "    def to_list_style(self): # 객체를 리스트 스타일로 ;\"홍길동 010-8999-9999 e@e.com 20 3 까칠해\"\n",
    "        temp = [self.name, self.phone, self.email, str(self.age), str(self.grade), self.etc]\n",
    "        return ' '.join(temp)\n",
    "    def __str__(self): # *** 홍길동 010-8999-9999 e@e.com 20 3 까칠해\n",
    "        return \"{:>5}\\t{:3}\\t{:15}\\t{:15}\\t{:3}\\t{}\".format('*'*self.grade, # grade만큼 * 반복, 오른쪽 정렬로 5자리\n",
    "                   self.name, self.phone, self.email, self.age, self.etc) "
   ]
  },
  {
   "cell_type": "code",
   "execution_count": 4,
   "id": "ee433973",
   "metadata": {},
   "outputs": [],
   "source": [
    "def to_member(row):\n",
    "    data = row.strip().split(' ')\n",
    "    name = data[0]\n",
    "    phone = data[1]\n",
    "    email = data[2]\n",
    "    age = int(data[3])\n",
    "    grade = int(data[4])\n",
    "    etc = data[5]\n",
    "    return Member(name, phone, email, age, grade, etc)"
   ]
  },
  {
   "cell_type": "code",
   "execution_count": 5,
   "id": "0025fbc3",
   "metadata": {},
   "outputs": [
    {
     "name": "stdout",
     "output_type": "stream",
     "text": [
      "*****\t홍길동\t010-8999-9999  \te@e.com        \t 20\tetc\n"
     ]
    }
   ],
   "source": [
    "m = to_member(\"홍길동 010-8999-9999 e@e.com 20 5 etc\")\n",
    "print(m)"
   ]
  },
  {
   "cell_type": "code",
   "execution_count": 6,
   "id": "0bda7bab",
   "metadata": {},
   "outputs": [],
   "source": [
    "# 1.입력\n",
    "def insert_member():\n",
    "    # 사용자로부터 이름, 전화, 이메일, 나이, 등급(1~5), 기타특징 입력받아 DB에 추가한다\n",
    "    # commit\n",
    "    name = input('이름 :')\n",
    "    phone = input('전화 :')\n",
    "    email = input('이메일 :')\n",
    "    try:\n",
    "        age = int(input('나이 :'))\n",
    "        if age < 0 :\n",
    "            age = 0\n",
    "    except ValueError as e:\n",
    "        print('유효하지 않은 나이를 입력하면 0으로 초기화')\n",
    "        age = 0\n",
    "    try:    \n",
    "        grade = int(input('등급(1~5) :'))\n",
    "        if grade < 1:\n",
    "            grade = 1\n",
    "        if grade > 5:\n",
    "            grade = 5\n",
    "    except ValueError as e:\n",
    "        print('유효하지 않은 등급을 입력하면 1로 초기화')\n",
    "        grade = 1\n",
    "    etc = input('기타특징 :')\n",
    "    cursor.execute(\"INSERT INTO MEMBER VALUES (?, ?, ?, ?, ?, ?) \", (name, phone, email, age, grade, etc))\n",
    "    conn.commit()"
   ]
  },
  {
   "cell_type": "code",
   "execution_count": 7,
   "id": "485a0bc8",
   "metadata": {},
   "outputs": [
    {
     "name": "stdout",
     "output_type": "stream",
     "text": [
      "이름 :유길동\n",
      "전화 :010-5555-5555\n",
      "이메일 :y@a.com\n",
      "나이 :21\n",
      "등급(1~5) :2\n",
      "기타특징 :etc\n"
     ]
    }
   ],
   "source": [
    "# 위의 메소드 test\n",
    "insert_member()"
   ]
  },
  {
   "cell_type": "code",
   "execution_count": 8,
   "id": "889f5d06",
   "metadata": {},
   "outputs": [],
   "source": [
    "# 2.전체출력\n",
    "def select_all():\n",
    "    # \"SELECT * FROM MEMBER\"의 결과를 출력(DataFrame형태/ 리스트형태)\n",
    "    import pandas as pd\n",
    "    cursor.execute('SELECT * FROM MEMBER')\n",
    "    member = cursor.fetchall() # 튜플리스트\n",
    "    data_df = pd.DataFrame(member) # 데이터프레임\n",
    "    data_df.columns = [row[0] for row in cursor.description]\n",
    "    return data_df"
   ]
  },
  {
   "cell_type": "code",
   "execution_count": 9,
   "id": "b5a3bedf",
   "metadata": {},
   "outputs": [
    {
     "data": {
      "text/html": [
       "<div>\n",
       "<style scoped>\n",
       "    .dataframe tbody tr th:only-of-type {\n",
       "        vertical-align: middle;\n",
       "    }\n",
       "\n",
       "    .dataframe tbody tr th {\n",
       "        vertical-align: top;\n",
       "    }\n",
       "\n",
       "    .dataframe thead th {\n",
       "        text-align: right;\n",
       "    }\n",
       "</style>\n",
       "<table border=\"1\" class=\"dataframe\">\n",
       "  <thead>\n",
       "    <tr style=\"text-align: right;\">\n",
       "      <th></th>\n",
       "      <th>NAME</th>\n",
       "      <th>PHONE</th>\n",
       "      <th>EMAIL</th>\n",
       "      <th>AGE</th>\n",
       "      <th>GRADE</th>\n",
       "      <th>ETC</th>\n",
       "    </tr>\n",
       "  </thead>\n",
       "  <tbody>\n",
       "    <tr>\n",
       "      <th>0</th>\n",
       "      <td>홍길동</td>\n",
       "      <td>010-9999-9999</td>\n",
       "      <td>h@a.com</td>\n",
       "      <td>23</td>\n",
       "      <td>4</td>\n",
       "      <td>etc</td>\n",
       "    </tr>\n",
       "    <tr>\n",
       "      <th>1</th>\n",
       "      <td>마길동</td>\n",
       "      <td>010-8888-8888</td>\n",
       "      <td>m@a.com</td>\n",
       "      <td>25</td>\n",
       "      <td>3</td>\n",
       "      <td>etc</td>\n",
       "    </tr>\n",
       "    <tr>\n",
       "      <th>2</th>\n",
       "      <td>김길동</td>\n",
       "      <td>010-7777-7777</td>\n",
       "      <td>k@a.com</td>\n",
       "      <td>31</td>\n",
       "      <td>2</td>\n",
       "      <td>etc</td>\n",
       "    </tr>\n",
       "    <tr>\n",
       "      <th>3</th>\n",
       "      <td>유길동</td>\n",
       "      <td>010-5555-5555</td>\n",
       "      <td>y@a.com</td>\n",
       "      <td>22</td>\n",
       "      <td>5</td>\n",
       "      <td>etc</td>\n",
       "    </tr>\n",
       "    <tr>\n",
       "      <th>4</th>\n",
       "      <td>서길동</td>\n",
       "      <td>010-6666-6666</td>\n",
       "      <td>s@a.com</td>\n",
       "      <td>22</td>\n",
       "      <td>5</td>\n",
       "      <td>etc</td>\n",
       "    </tr>\n",
       "    <tr>\n",
       "      <th>5</th>\n",
       "      <td>유길동</td>\n",
       "      <td>010-5555-5555</td>\n",
       "      <td>y@a.com</td>\n",
       "      <td>21</td>\n",
       "      <td>2</td>\n",
       "      <td>etc</td>\n",
       "    </tr>\n",
       "  </tbody>\n",
       "</table>\n",
       "</div>"
      ],
      "text/plain": [
       "  NAME          PHONE    EMAIL  AGE  GRADE  ETC\n",
       "0  홍길동  010-9999-9999  h@a.com   23      4  etc\n",
       "1  마길동  010-8888-8888  m@a.com   25      3  etc\n",
       "2  김길동  010-7777-7777  k@a.com   31      2  etc\n",
       "3  유길동  010-5555-5555  y@a.com   22      5  etc\n",
       "4  서길동  010-6666-6666  s@a.com   22      5  etc\n",
       "5  유길동  010-5555-5555  y@a.com   21      2  etc"
      ]
     },
     "execution_count": 9,
     "metadata": {},
     "output_type": "execute_result"
    }
   ],
   "source": [
    "# 위의 메소드 test\n",
    "select_all()"
   ]
  },
  {
   "cell_type": "code",
   "execution_count": 10,
   "id": "7650cfb5",
   "metadata": {},
   "outputs": [],
   "source": [
    "# 3.이름검색\n",
    "def select_name():\n",
    "    # 사용자로부터 검색하고자 하는 이름을 받아 결과 출력(DataFrame형태/ 리스트형태)\n",
    "    import pandas as pd\n",
    "    name1 = input('검색할 이름 :')\n",
    "    cursor.execute(\"SELECT * FROM MEMBER WHERE NAME = :name \", {'name':name1})\n",
    "    member = cursor.fetchall() # 튜플리스트\n",
    "    data_df = pd.DataFrame(member) # 데이터프레임\n",
    "    data_df.columns = [row[0] for row in cursor.description]\n",
    "    return data_df"
   ]
  },
  {
   "cell_type": "code",
   "execution_count": 11,
   "id": "a852d5ad",
   "metadata": {},
   "outputs": [
    {
     "name": "stdout",
     "output_type": "stream",
     "text": [
      "검색할 이름 :유길동\n"
     ]
    },
    {
     "data": {
      "text/html": [
       "<div>\n",
       "<style scoped>\n",
       "    .dataframe tbody tr th:only-of-type {\n",
       "        vertical-align: middle;\n",
       "    }\n",
       "\n",
       "    .dataframe tbody tr th {\n",
       "        vertical-align: top;\n",
       "    }\n",
       "\n",
       "    .dataframe thead th {\n",
       "        text-align: right;\n",
       "    }\n",
       "</style>\n",
       "<table border=\"1\" class=\"dataframe\">\n",
       "  <thead>\n",
       "    <tr style=\"text-align: right;\">\n",
       "      <th></th>\n",
       "      <th>NAME</th>\n",
       "      <th>PHONE</th>\n",
       "      <th>EMAIL</th>\n",
       "      <th>AGE</th>\n",
       "      <th>GRADE</th>\n",
       "      <th>ETC</th>\n",
       "    </tr>\n",
       "  </thead>\n",
       "  <tbody>\n",
       "    <tr>\n",
       "      <th>0</th>\n",
       "      <td>유길동</td>\n",
       "      <td>010-5555-5555</td>\n",
       "      <td>y@a.com</td>\n",
       "      <td>22</td>\n",
       "      <td>5</td>\n",
       "      <td>etc</td>\n",
       "    </tr>\n",
       "    <tr>\n",
       "      <th>1</th>\n",
       "      <td>유길동</td>\n",
       "      <td>010-5555-5555</td>\n",
       "      <td>y@a.com</td>\n",
       "      <td>21</td>\n",
       "      <td>2</td>\n",
       "      <td>etc</td>\n",
       "    </tr>\n",
       "  </tbody>\n",
       "</table>\n",
       "</div>"
      ],
      "text/plain": [
       "  NAME          PHONE    EMAIL  AGE  GRADE  ETC\n",
       "0  유길동  010-5555-5555  y@a.com   22      5  etc\n",
       "1  유길동  010-5555-5555  y@a.com   21      2  etc"
      ]
     },
     "execution_count": 11,
     "metadata": {},
     "output_type": "execute_result"
    }
   ],
   "source": [
    "# 위의 메소드 test\n",
    "select_name()"
   ]
  },
  {
   "cell_type": "code",
   "execution_count": 19,
   "id": "ad97c150",
   "metadata": {},
   "outputs": [],
   "source": [
    "# 4.메일삭제\n",
    "def delete_email():\n",
    "    # 사용자로부터 삭제할 메일을 입력받아 해당 이메일이 있는지 확인하고\n",
    "    # 해당 이메일이 없으면 없다 출력, 있으면 삭제하고 삭제했다 출력\n",
    "    import pandas as pd\n",
    "    email1 = input('삭제할 메일 :')\n",
    "    cursor.execute(\"DELETE FROM MEMBER WHERE EMAIL = :email \", {'email':email1})\n",
    "    member = cursor.fetchall() # 튜플리스트\n",
    "    if member != [()]:\n",
    "        print(email1, '을 삭제했습니다')\n",
    "        conn.commit()\n",
    "    else:\n",
    "        print(email1, '님이 데이터에 존재하지 않습니다')"
   ]
  },
  {
   "cell_type": "code",
   "execution_count": null,
   "id": "41c61304",
   "metadata": {},
   "outputs": [],
   "source": [
    "def delete_email():\n",
    "    # 사용자로부터 삭제할 메일을 입력받아 해당 이메일이 있는지 확인하고\n",
    "    # 해당 이메일이 없으면 없다 출력, 있으면 삭제하고 삭제했다 출력\n",
    "    email1 = input('삭제할 메일 :')\n",
    "    delete_flag = False\n",
    "    for i, member in enumerate(member):\n",
    "        if member.email == email1:\n",
    "            del member[i]\n",
    "            delete_flag = True\n",
    "            break\n",
    "    if delete_flag:\n",
    "        print(email1, '님을 삭제했습니다')\n",
    "    else:\n",
    "        print(email1, '님이 데이터에 존재하지 않습니다')"
   ]
  },
  {
   "cell_type": "code",
   "execution_count": 13,
   "id": "078c2bcd",
   "metadata": {},
   "outputs": [
    {
     "name": "stdout",
     "output_type": "stream",
     "text": [
      "삭제할 메일 :y@a.com\n",
      "y@a.com 을 삭제했습니다\n"
     ]
    }
   ],
   "source": [
    "# 위의 메소드 test\n",
    "delete_email()"
   ]
  },
  {
   "cell_type": "code",
   "execution_count": 20,
   "id": "35d0df87",
   "metadata": {},
   "outputs": [
    {
     "name": "stdout",
     "output_type": "stream",
     "text": [
      "삭제할 메일 :a\n",
      "a 을 삭제했습니다\n"
     ]
    }
   ],
   "source": [
    "# 위의 메소드 test2\n",
    "delete_email()"
   ]
  },
  {
   "cell_type": "code",
   "execution_count": 21,
   "id": "86a78037",
   "metadata": {},
   "outputs": [
    {
     "data": {
      "text/plain": [
       "[('홍길동', '010-9999-9999', 'h@a.com', 23, 4, 'etc'),\n",
       " ('마길동', '010-8888-8888', 'm@a.com', 25, 3, 'etc'),\n",
       " ('김길동', '010-7777-7777', 'k@a.com', 31, 2, 'etc'),\n",
       " ('서길동', '010-6666-6666', 's@a.com', 22, 5, 'etc')]"
      ]
     },
     "execution_count": 21,
     "metadata": {},
     "output_type": "execute_result"
    }
   ],
   "source": [
    "# 지금 현재 DB 내용\n",
    "cursor.execute(\"SELECT * FROM MEMBER\")\n",
    "cursor.fetchall()"
   ]
  },
  {
   "cell_type": "code",
   "execution_count": 22,
   "id": "4cf3ec60",
   "metadata": {},
   "outputs": [],
   "source": [
    "# 5.CSV내보내기\n",
    "import csv\n",
    "def save_csv():\n",
    "    # \"SELECT * FROM MEMBER\"의 결과를 CSV로 내보내기(HEADER 포함)\n",
    "    import pandas as pd\n",
    "    cursor.execute('SELECT * FROM MEMBER')\n",
    "    member = cursor.fetchall()\n",
    "    data_df = pd.DataFrame(member)\n",
    "    data_df\n",
    "    with open('data.csv','w') as f :\n",
    "        write = csv.writer(f)\n",
    "        write.writerows(member)"
   ]
  },
  {
   "cell_type": "code",
   "execution_count": 23,
   "id": "726486e9",
   "metadata": {},
   "outputs": [],
   "source": [
    "# 위의 메소드 test\n",
    "save_csv()"
   ]
  },
  {
   "cell_type": "code",
   "execution_count": 24,
   "id": "b0876f5f",
   "metadata": {},
   "outputs": [],
   "source": [
    "# 0.종료\n",
    "def close_sql():\n",
    "    global conn\n",
    "    conn.close()\n",
    "    print(\"종료합니다\")"
   ]
  },
  {
   "cell_type": "code",
   "execution_count": 25,
   "id": "4e48584f",
   "metadata": {},
   "outputs": [],
   "source": [
    "def main():\n",
    "    while True:\n",
    "        print(\"1:입력\",\"2.전체조회\",\"3:이름찾기\",\"4.메일삭제\",\"5:내보내기(CSV)\",\"0.종료\", sep=' | ', end='')\n",
    "        fn = int(input('메뉴선택 : '))\n",
    "        if fn == 1 :\n",
    "            member = insert_member()\n",
    "        elif fn == 2 :\n",
    "            print(select_all())\n",
    "        elif fn == 3 :\n",
    "            print(select_name())\n",
    "        elif fn == 4 :\n",
    "            delete_email()\n",
    "        elif fn == 5 :\n",
    "            save_csv()\n",
    "        elif fn == 0 :\n",
    "            close_sql()\n",
    "            break"
   ]
  },
  {
   "cell_type": "code",
   "execution_count": 26,
   "id": "25cf6dec",
   "metadata": {},
   "outputs": [
    {
     "name": "stdout",
     "output_type": "stream",
     "text": [
      "1:입력 | 2.전체조회 | 3:이름찾기 | 4.메일삭제 | 5:내보내기(CSV) | 0.종료메뉴선택 : 1\n",
      "이름 :이길동\n",
      "전화 :010-3333-3333\n",
      "이메일 :l@a.com\n",
      "나이 :26\n",
      "등급(1~5) :4\n",
      "기타특징 :etc\n",
      "1:입력 | 2.전체조회 | 3:이름찾기 | 4.메일삭제 | 5:내보내기(CSV) | 0.종료메뉴선택 : 2\n",
      "  NAME          PHONE    EMAIL  AGE  GRADE  ETC\n",
      "0  홍길동  010-9999-9999  h@a.com   23      4  etc\n",
      "1  마길동  010-8888-8888  m@a.com   25      3  etc\n",
      "2  김길동  010-7777-7777  k@a.com   31      2  etc\n",
      "3  서길동  010-6666-6666  s@a.com   22      5  etc\n",
      "4  이길동  010-3333-3333  l@a.com   26      4  etc\n",
      "1:입력 | 2.전체조회 | 3:이름찾기 | 4.메일삭제 | 5:내보내기(CSV) | 0.종료메뉴선택 : 3\n",
      "검색할 이름 :서길동\n",
      "  NAME          PHONE    EMAIL  AGE  GRADE  ETC\n",
      "0  서길동  010-6666-6666  s@a.com   22      5  etc\n",
      "1:입력 | 2.전체조회 | 3:이름찾기 | 4.메일삭제 | 5:내보내기(CSV) | 0.종료메뉴선택 : 4\n",
      "삭제할 메일 :l@a.com\n",
      "l@a.com 을 삭제했습니다\n",
      "1:입력 | 2.전체조회 | 3:이름찾기 | 4.메일삭제 | 5:내보내기(CSV) | 0.종료메뉴선택 : 2\n",
      "  NAME          PHONE    EMAIL  AGE  GRADE  ETC\n",
      "0  홍길동  010-9999-9999  h@a.com   23      4  etc\n",
      "1  마길동  010-8888-8888  m@a.com   25      3  etc\n",
      "2  김길동  010-7777-7777  k@a.com   31      2  etc\n",
      "3  서길동  010-6666-6666  s@a.com   22      5  etc\n",
      "1:입력 | 2.전체조회 | 3:이름찾기 | 4.메일삭제 | 5:내보내기(CSV) | 0.종료메뉴선택 : 5\n",
      "1:입력 | 2.전체조회 | 3:이름찾기 | 4.메일삭제 | 5:내보내기(CSV) | 0.종료메뉴선택 : 0\n",
      "종료합니다\n"
     ]
    }
   ],
   "source": [
    "if __name__=='__main__':\n",
    "    import sqlite3\n",
    "    global conn\n",
    "    conn = sqlite3.connect('data.db')\n",
    "    main()"
   ]
  },
  {
   "cell_type": "markdown",
   "id": "660b42e9",
   "metadata": {
    "code_folding": []
   },
   "source": [
    "# 서술형 문제"
   ]
  },
  {
   "cell_type": "code",
   "execution_count": null,
   "id": "4961107b",
   "metadata": {},
   "outputs": [],
   "source": [
    "# 1. 4번\n",
    "# 2. 2번"
   ]
  }
 ],
 "metadata": {
  "kernelspec": {
   "display_name": "Python 3",
   "language": "python",
   "name": "python3"
  },
  "language_info": {
   "codemirror_mode": {
    "name": "ipython",
    "version": 3
   },
   "file_extension": ".py",
   "mimetype": "text/x-python",
   "name": "python",
   "nbconvert_exporter": "python",
   "pygments_lexer": "ipython3",
   "version": "3.8.8"
  },
  "toc": {
   "base_numbering": 1,
   "nav_menu": {},
   "number_sections": false,
   "sideBar": true,
   "skip_h1_title": false,
   "title_cell": "Table of Contents",
   "title_sidebar": "Contents",
   "toc_cell": false,
   "toc_position": {
    "height": "calc(100% - 180px)",
    "left": "10px",
    "top": "150px",
    "width": "199.188px"
   },
   "toc_section_display": true,
   "toc_window_display": false
  },
  "varInspector": {
   "cols": {
    "lenName": 16,
    "lenType": 16,
    "lenVar": 40
   },
   "kernels_config": {
    "python": {
     "delete_cmd_postfix": "",
     "delete_cmd_prefix": "del ",
     "library": "var_list.py",
     "varRefreshCmd": "print(var_dic_list())"
    },
    "r": {
     "delete_cmd_postfix": ") ",
     "delete_cmd_prefix": "rm(",
     "library": "var_list.r",
     "varRefreshCmd": "cat(var_dic_list()) "
    }
   },
   "types_to_exclude": [
    "module",
    "function",
    "builtin_function_or_method",
    "instance",
    "_Feature"
   ],
   "window_display": false
  }
 },
 "nbformat": 4,
 "nbformat_minor": 5
}
